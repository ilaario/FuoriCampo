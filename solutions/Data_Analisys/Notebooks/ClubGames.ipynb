{
 "cells": [
  {
   "metadata": {},
   "cell_type": "markdown",
   "source": [
    "# *Analysis 3: ClubGames*\n",
    "We analyze the third table, ClubGames, which contains data related to the __matches played by clubs__.\n",
    "Display the first rows of the dataset."
   ],
   "id": "6c2de225d5b3619c"
  },
  {
   "metadata": {
    "ExecuteTime": {
     "end_time": "2024-09-04T16:29:52.058560Z",
     "start_time": "2024-09-04T16:29:52.053668Z"
    }
   },
   "cell_type": "code",
   "source": [
    "import pandas as pd\n",
    "import matplotlib.pyplot as plt\n",
    "import seaborn as sns"
   ],
   "id": "90f3c25b275c72de",
   "outputs": [],
   "execution_count": 1
  },
  {
   "metadata": {
    "ExecuteTime": {
     "end_time": "2024-09-04T16:29:52.274859Z",
     "start_time": "2024-09-04T16:29:52.060568Z"
    }
   },
   "cell_type": "code",
   "source": [
    "df= pd.read_csv('../Datasets/club_games.csv')\n",
    "\n",
    "df.head()"
   ],
   "id": "adc7d6802d87f350",
   "outputs": [
    {
     "data": {
      "text/plain": [
       "   game_id  club_id  own_goals  own_position      own_manager_name  \\\n",
       "0  2221751      431          1           NaN         Lutz Göttling   \n",
       "1  2221755       83          3           NaN      Ralph Hasenhüttl   \n",
       "2  2222597     3725          2           2.0  Stanislav Cherchesov   \n",
       "3  2222627     2696          0          11.0        Andrey Kobelev   \n",
       "4  2222658     2410          0           2.0        Leonid Slutski   \n",
       "\n",
       "   opponent_id  opponent_goals  opponent_position opponent_manager_name  \\\n",
       "0           60               2                NaN     Christian Streich   \n",
       "1         4795               0                NaN            Tomas Oral   \n",
       "2          232               1                5.0            Unai Emery   \n",
       "3         4128               2               10.0         Rustem Khuzin   \n",
       "4          121               2               13.0          Dan Petrescu   \n",
       "\n",
       "  hosting  is_win  \n",
       "0    Home       0  \n",
       "1    Home       1  \n",
       "2    Home       1  \n",
       "3    Home       0  \n",
       "4    Home       0  "
      ],
      "text/html": [
       "<div>\n",
       "<style scoped>\n",
       "    .dataframe tbody tr th:only-of-type {\n",
       "        vertical-align: middle;\n",
       "    }\n",
       "\n",
       "    .dataframe tbody tr th {\n",
       "        vertical-align: top;\n",
       "    }\n",
       "\n",
       "    .dataframe thead th {\n",
       "        text-align: right;\n",
       "    }\n",
       "</style>\n",
       "<table border=\"1\" class=\"dataframe\">\n",
       "  <thead>\n",
       "    <tr style=\"text-align: right;\">\n",
       "      <th></th>\n",
       "      <th>game_id</th>\n",
       "      <th>club_id</th>\n",
       "      <th>own_goals</th>\n",
       "      <th>own_position</th>\n",
       "      <th>own_manager_name</th>\n",
       "      <th>opponent_id</th>\n",
       "      <th>opponent_goals</th>\n",
       "      <th>opponent_position</th>\n",
       "      <th>opponent_manager_name</th>\n",
       "      <th>hosting</th>\n",
       "      <th>is_win</th>\n",
       "    </tr>\n",
       "  </thead>\n",
       "  <tbody>\n",
       "    <tr>\n",
       "      <th>0</th>\n",
       "      <td>2221751</td>\n",
       "      <td>431</td>\n",
       "      <td>1</td>\n",
       "      <td>NaN</td>\n",
       "      <td>Lutz Göttling</td>\n",
       "      <td>60</td>\n",
       "      <td>2</td>\n",
       "      <td>NaN</td>\n",
       "      <td>Christian Streich</td>\n",
       "      <td>Home</td>\n",
       "      <td>0</td>\n",
       "    </tr>\n",
       "    <tr>\n",
       "      <th>1</th>\n",
       "      <td>2221755</td>\n",
       "      <td>83</td>\n",
       "      <td>3</td>\n",
       "      <td>NaN</td>\n",
       "      <td>Ralph Hasenhüttl</td>\n",
       "      <td>4795</td>\n",
       "      <td>0</td>\n",
       "      <td>NaN</td>\n",
       "      <td>Tomas Oral</td>\n",
       "      <td>Home</td>\n",
       "      <td>1</td>\n",
       "    </tr>\n",
       "    <tr>\n",
       "      <th>2</th>\n",
       "      <td>2222597</td>\n",
       "      <td>3725</td>\n",
       "      <td>2</td>\n",
       "      <td>2.0</td>\n",
       "      <td>Stanislav Cherchesov</td>\n",
       "      <td>232</td>\n",
       "      <td>1</td>\n",
       "      <td>5.0</td>\n",
       "      <td>Unai Emery</td>\n",
       "      <td>Home</td>\n",
       "      <td>1</td>\n",
       "    </tr>\n",
       "    <tr>\n",
       "      <th>3</th>\n",
       "      <td>2222627</td>\n",
       "      <td>2696</td>\n",
       "      <td>0</td>\n",
       "      <td>11.0</td>\n",
       "      <td>Andrey Kobelev</td>\n",
       "      <td>4128</td>\n",
       "      <td>2</td>\n",
       "      <td>10.0</td>\n",
       "      <td>Rustem Khuzin</td>\n",
       "      <td>Home</td>\n",
       "      <td>0</td>\n",
       "    </tr>\n",
       "    <tr>\n",
       "      <th>4</th>\n",
       "      <td>2222658</td>\n",
       "      <td>2410</td>\n",
       "      <td>0</td>\n",
       "      <td>2.0</td>\n",
       "      <td>Leonid Slutski</td>\n",
       "      <td>121</td>\n",
       "      <td>2</td>\n",
       "      <td>13.0</td>\n",
       "      <td>Dan Petrescu</td>\n",
       "      <td>Home</td>\n",
       "      <td>0</td>\n",
       "    </tr>\n",
       "  </tbody>\n",
       "</table>\n",
       "</div>"
      ]
     },
     "execution_count": 2,
     "metadata": {},
     "output_type": "execute_result"
    }
   ],
   "execution_count": 2
  },
  {
   "metadata": {},
   "cell_type": "markdown",
   "source": [
    "The meaning of each __column__ is as follows:\n",
    "- **game_id:** Unique identifier of the **match**.\n",
    "- **club_id:** Identifier of the **home club**.\n",
    "- **own_goals:** Number of **goals** scored by the **home** team.\n",
    "- **own_position:** **League position** of the **home** team before the match.\n",
    "- **own_manager_name:** Name of the **manager** of the **home** team.\n",
    "- **opponent_id:** Identifier of the **opponent club**.\n",
    "- **opponent_goals:** Number of **goals** scored by the **opponent** team.\n",
    "- **opponent_position:** **League position** of the **opponent** team before the match.\n",
    "- **opponent_manager_name:** Name of the **manager** of the **opponent** team.\n",
    "- **hosting:** Indication if the match is played **at home** (\"**Home**\").\n",
    "- **is_win:** Indication if the **home** team **won** the match (1 for **win**, 0 for loss or draw).\n"
   ],
   "id": "78b24daef63071c0"
  },
  {
   "metadata": {
    "ExecuteTime": {
     "end_time": "2024-09-04T16:29:52.288615Z",
     "start_time": "2024-09-04T16:29:52.276868Z"
    }
   },
   "cell_type": "code",
   "source": "print('Numero di righe e colonne:', df.shape)",
   "id": "cbe74b1b38858847",
   "outputs": [
    {
     "name": "stdout",
     "output_type": "stream",
     "text": [
      "Numero di righe e colonne: (130432, 11)\n"
     ]
    }
   ],
   "execution_count": 3
  },
  {
   "metadata": {},
   "cell_type": "markdown",
   "source": "It is noted from the number of rows that the dataset is used to __store dynamic data__.\n",
   "id": "cfc627c3225c639c"
  },
  {
   "metadata": {},
   "cell_type": "markdown",
   "source": [
    "Some __numeric values__ in the dataset may be useful if analyzed from a __statistical__ perspective.\n",
    "We use __describe()__ for this purpose. But first, **remove** any **null** values to avoid **errors**.\n"
   ],
   "id": "e3aca4423bb6a81"
  },
  {
   "metadata": {
    "ExecuteTime": {
     "end_time": "2024-09-04T16:29:52.329283Z",
     "start_time": "2024-09-04T16:29:52.291671Z"
    }
   },
   "cell_type": "code",
   "source": "df.isnull().sum()",
   "id": "584ac82f637c6bfe",
   "outputs": [
    {
     "data": {
      "text/plain": [
       "game_id                      0\n",
       "club_id                      0\n",
       "own_goals                    0\n",
       "own_position             38908\n",
       "own_manager_name          1484\n",
       "opponent_id                  0\n",
       "opponent_goals               0\n",
       "opponent_position        38908\n",
       "opponent_manager_name     1484\n",
       "hosting                      0\n",
       "is_win                       0\n",
       "dtype: int64"
      ]
     },
     "execution_count": 4,
     "metadata": {},
     "output_type": "execute_result"
    }
   ],
   "execution_count": 4
  },
  {
   "metadata": {},
   "cell_type": "markdown",
   "source": [
    "There are many rows with missing values. Therefore, we proceed with the __replacement__ of missing values with __meaningful__ values.\n",
    "We opt to use __'Unknown'__ for manager names and __-1__ for league positions, thus keeping the data __consistent__.\n"
   ],
   "id": "63d75b54708043e6"
  },
  {
   "metadata": {
    "ExecuteTime": {
     "end_time": "2024-09-04T16:29:52.387797Z",
     "start_time": "2024-09-04T16:29:52.332301Z"
    }
   },
   "cell_type": "code",
   "source": [
    "df['own_position'] = df['own_position'].fillna(-1)\n",
    "df['opponent_position'] = df['opponent_position'].fillna(-1)\n",
    "df['own_manager_name'] = df['own_manager_name'].fillna('Unknown')\n",
    "df['opponent_manager_name'] = df['opponent_manager_name'].fillna('Unknown')\n",
    "df.isnull().sum()"
   ],
   "id": "c1bcfba1ef3dd701",
   "outputs": [
    {
     "data": {
      "text/plain": [
       "game_id                  0\n",
       "club_id                  0\n",
       "own_goals                0\n",
       "own_position             0\n",
       "own_manager_name         0\n",
       "opponent_id              0\n",
       "opponent_goals           0\n",
       "opponent_position        0\n",
       "opponent_manager_name    0\n",
       "hosting                  0\n",
       "is_win                   0\n",
       "dtype: int64"
      ]
     },
     "execution_count": 5,
     "metadata": {},
     "output_type": "execute_result"
    }
   ],
   "execution_count": 5
  },
  {
   "metadata": {},
   "cell_type": "markdown",
   "source": [
    "It is confirmed that there are no more null values in the dataset.\n",
    "We resume with __describe()__, excluding the previously handled null values.\n"
   ],
   "id": "6c571699caf8766c"
  },
  {
   "metadata": {
    "ExecuteTime": {
     "end_time": "2024-09-04T16:29:52.517798Z",
     "start_time": "2024-09-04T16:29:52.390814Z"
    }
   },
   "cell_type": "code",
   "source": "df[df.select_dtypes(include=['float64', 'int64']).ne(-1)].describe()",
   "id": "b0f8ba7d43ad2c75",
   "outputs": [
    {
     "data": {
      "text/plain": [
       "            game_id       club_id      own_goals  own_position   opponent_id  \\\n",
       "count  1.304320e+05  130432.00000  130432.000000  91524.000000  130432.00000   \n",
       "mean   3.018125e+06    4681.76423       1.457365      9.364910    4681.76423   \n",
       "std    5.605194e+05   10870.32151       1.402178      5.311624   10870.32151   \n",
       "min    2.211607e+06       1.00000       0.000000      1.000000       1.00000   \n",
       "25%    2.518596e+06     354.00000       0.000000      5.000000     354.00000   \n",
       "50%    2.919854e+06     995.00000       1.000000      9.000000     995.00000   \n",
       "75%    3.450800e+06    3060.00000       2.000000     14.000000    3060.00000   \n",
       "max    4.228114e+06  112755.00000      19.000000     21.000000  112755.00000   \n",
       "\n",
       "       opponent_goals  opponent_position         is_win  \n",
       "count   130432.000000       91524.000000  130432.000000  \n",
       "mean         1.457365           9.364910       0.392703  \n",
       "std          1.402178           5.311624       0.488353  \n",
       "min          0.000000           1.000000       0.000000  \n",
       "25%          0.000000           5.000000       0.000000  \n",
       "50%          1.000000           9.000000       0.000000  \n",
       "75%          2.000000          14.000000       1.000000  \n",
       "max         19.000000          21.000000       1.000000  "
      ],
      "text/html": [
       "<div>\n",
       "<style scoped>\n",
       "    .dataframe tbody tr th:only-of-type {\n",
       "        vertical-align: middle;\n",
       "    }\n",
       "\n",
       "    .dataframe tbody tr th {\n",
       "        vertical-align: top;\n",
       "    }\n",
       "\n",
       "    .dataframe thead th {\n",
       "        text-align: right;\n",
       "    }\n",
       "</style>\n",
       "<table border=\"1\" class=\"dataframe\">\n",
       "  <thead>\n",
       "    <tr style=\"text-align: right;\">\n",
       "      <th></th>\n",
       "      <th>game_id</th>\n",
       "      <th>club_id</th>\n",
       "      <th>own_goals</th>\n",
       "      <th>own_position</th>\n",
       "      <th>opponent_id</th>\n",
       "      <th>opponent_goals</th>\n",
       "      <th>opponent_position</th>\n",
       "      <th>is_win</th>\n",
       "    </tr>\n",
       "  </thead>\n",
       "  <tbody>\n",
       "    <tr>\n",
       "      <th>count</th>\n",
       "      <td>1.304320e+05</td>\n",
       "      <td>130432.00000</td>\n",
       "      <td>130432.000000</td>\n",
       "      <td>91524.000000</td>\n",
       "      <td>130432.00000</td>\n",
       "      <td>130432.000000</td>\n",
       "      <td>91524.000000</td>\n",
       "      <td>130432.000000</td>\n",
       "    </tr>\n",
       "    <tr>\n",
       "      <th>mean</th>\n",
       "      <td>3.018125e+06</td>\n",
       "      <td>4681.76423</td>\n",
       "      <td>1.457365</td>\n",
       "      <td>9.364910</td>\n",
       "      <td>4681.76423</td>\n",
       "      <td>1.457365</td>\n",
       "      <td>9.364910</td>\n",
       "      <td>0.392703</td>\n",
       "    </tr>\n",
       "    <tr>\n",
       "      <th>std</th>\n",
       "      <td>5.605194e+05</td>\n",
       "      <td>10870.32151</td>\n",
       "      <td>1.402178</td>\n",
       "      <td>5.311624</td>\n",
       "      <td>10870.32151</td>\n",
       "      <td>1.402178</td>\n",
       "      <td>5.311624</td>\n",
       "      <td>0.488353</td>\n",
       "    </tr>\n",
       "    <tr>\n",
       "      <th>min</th>\n",
       "      <td>2.211607e+06</td>\n",
       "      <td>1.00000</td>\n",
       "      <td>0.000000</td>\n",
       "      <td>1.000000</td>\n",
       "      <td>1.00000</td>\n",
       "      <td>0.000000</td>\n",
       "      <td>1.000000</td>\n",
       "      <td>0.000000</td>\n",
       "    </tr>\n",
       "    <tr>\n",
       "      <th>25%</th>\n",
       "      <td>2.518596e+06</td>\n",
       "      <td>354.00000</td>\n",
       "      <td>0.000000</td>\n",
       "      <td>5.000000</td>\n",
       "      <td>354.00000</td>\n",
       "      <td>0.000000</td>\n",
       "      <td>5.000000</td>\n",
       "      <td>0.000000</td>\n",
       "    </tr>\n",
       "    <tr>\n",
       "      <th>50%</th>\n",
       "      <td>2.919854e+06</td>\n",
       "      <td>995.00000</td>\n",
       "      <td>1.000000</td>\n",
       "      <td>9.000000</td>\n",
       "      <td>995.00000</td>\n",
       "      <td>1.000000</td>\n",
       "      <td>9.000000</td>\n",
       "      <td>0.000000</td>\n",
       "    </tr>\n",
       "    <tr>\n",
       "      <th>75%</th>\n",
       "      <td>3.450800e+06</td>\n",
       "      <td>3060.00000</td>\n",
       "      <td>2.000000</td>\n",
       "      <td>14.000000</td>\n",
       "      <td>3060.00000</td>\n",
       "      <td>2.000000</td>\n",
       "      <td>14.000000</td>\n",
       "      <td>1.000000</td>\n",
       "    </tr>\n",
       "    <tr>\n",
       "      <th>max</th>\n",
       "      <td>4.228114e+06</td>\n",
       "      <td>112755.00000</td>\n",
       "      <td>19.000000</td>\n",
       "      <td>21.000000</td>\n",
       "      <td>112755.00000</td>\n",
       "      <td>19.000000</td>\n",
       "      <td>21.000000</td>\n",
       "      <td>1.000000</td>\n",
       "    </tr>\n",
       "  </tbody>\n",
       "</table>\n",
       "</div>"
      ]
     },
     "execution_count": 6,
     "metadata": {},
     "output_type": "execute_result"
    }
   ],
   "execution_count": 6
  },
  {
   "metadata": {},
   "cell_type": "markdown",
   "source": "The integer variable __is_win__, although stored as an integer, is used as a __boolean__ value to indicate the win or loss of a home team. We use this to create a bar chart showing the percentage of home and away wins.\n",
   "id": "35576becc24761c1"
  },
  {
   "metadata": {
    "ExecuteTime": {
     "end_time": "2024-09-04T16:29:52.813543Z",
     "start_time": "2024-09-04T16:29:52.519813Z"
    }
   },
   "cell_type": "code",
   "source": [
    "home_wins = df[df['hosting'] == 'Home']['is_win'].mean() * 100\n",
    "away_wins = df[df['hosting'] == 'Away']['is_win'].mean() * 100\n",
    "\n",
    "labels = ['Casa', 'Trasferta']\n",
    "values = [home_wins, away_wins]\n",
    "\n",
    "plt.figure(figsize=(8, 5))\n",
    "plt.bar(labels, values, color=['blue', 'red'])\n",
    "plt.title('Percentuale di Vittorie: Casa vs. Trasferta')\n",
    "plt.ylabel('Percentuale di Vittorie')\n",
    "plt.show()"
   ],
   "id": "e45a22d8e9ff71b6",
   "outputs": [
    {
     "data": {
      "text/plain": [
       "<Figure size 800x500 with 1 Axes>"
      ],
      "image/png": "[encoded data removed]"
     },
     "metadata": {},
     "output_type": "display_data"
    }
   ],
   "execution_count": 7
  },
  {
   "metadata": {},
   "cell_type": "markdown",
   "source": [
    "Another piece of data available for each match is the __position__ in the league of both the home team and the opponent team.\n",
    "We calculate the average position of clubs in __wins__ and __losses__. \n",
    "The data is displayed in a __bar chart__.\n"
   ],
   "id": "7ed0bd0aa058b7ad"
  },
  {
   "metadata": {
    "ExecuteTime": {
     "end_time": "2024-09-04T16:29:52.998550Z",
     "start_time": "2024-09-04T16:29:52.816555Z"
    }
   },
   "cell_type": "code",
   "source": [
    "avg_position_win = df[df['is_win'] == 1]['own_position'].mean()\n",
    "avg_position_loss = df[df['is_win'] == 0]['own_position'].mean()\n",
    "\n",
    "labels = ['Vittorie', 'Sconfitte']\n",
    "values = [avg_position_win, avg_position_loss]\n",
    "\n",
    "plt.figure(figsize=(8, 5))\n",
    "plt.bar(labels, values, color=['blue', 'red'])\n",
    "plt.title('Posizione Media del Club: Vittorie vs. Sconfitte')\n",
    "plt.ylabel('Posizione Media')\n",
    "plt.show()"
   ],
   "id": "c97a1ba56ab61df",
   "outputs": [
    {
     "data": {
      "text/plain": [
       "<Figure size 800x500 with 1 Axes>"
      ],
      "image/png": "[encoded data removed]"
     },
     "metadata": {},
     "output_type": "display_data"
    }
   ],
   "execution_count": 8
  },
  {
   "metadata": {},
   "cell_type": "markdown",
   "source": [
    "To complete the above chart, we use a __boxplot__. \n",
    "This provides additional details on the __distribution of the data__ and helps understand the __variability of positions__ in the league relative to match outcomes.\n",
    "It also allows visualization of the __median__, __quartiles__, and __outliers__ (if any).\n"
   ],
   "id": "db4de5a7766078d5"
  },
  {
   "metadata": {
    "ExecuteTime": {
     "end_time": "2024-09-04T16:29:53.623934Z",
     "start_time": "2024-09-04T16:29:52.999558Z"
    }
   },
   "cell_type": "code",
   "source": [
    "plt.figure(figsize=(12, 6))\n",
    "sns.boxplot(data=df, x='is_win', y='own_position', hue='is_win', palette=['red', 'aqua'], legend=False)\n",
    "plt.title('Distribuzione delle Posizioni in Classifica del Club')\n",
    "plt.xlabel('Esito della Partita (0 = Persa, 1 = Vinta)')\n",
    "plt.ylabel('Posizione in Classifica')\n",
    "plt.show()"
   ],
   "id": "b1600924a33e3720",
   "outputs": [
    {
     "data": {
      "text/plain": [
       "<Figure size 1200x600 with 1 Axes>"
      ],
      "image/png": "[encoded data removed]"
     },
     "metadata": {},
     "output_type": "display_data"
    }
   ],
   "execution_count": 9
  },
  {
   "metadata": {},
   "cell_type": "markdown",
   "source": [
    "For each match played, the __manager__ of both the home and away teams is available.\n",
    "We can use this data combined with the win information to calculate the number of __wins per manager__ to identify which managers have the most __success__.\n"
   ],
   "id": "621d5f54db75df7d"
  },
  {
   "metadata": {
    "ExecuteTime": {
     "end_time": "2024-09-04T16:29:53.954052Z",
     "start_time": "2024-09-04T16:29:53.626443Z"
    }
   },
   "cell_type": "code",
   "source": [
    "manager_wins = df[(df['is_win'] == 1) & (df['own_manager_name'] != 'Unknown')]['own_manager_name'].value_counts()\n",
    "\n",
    "top_10_manager_wins = manager_wins[:10]\n",
    "\n",
    "plt.figure(figsize=(10, 5))\n",
    "plt.barh(top_10_manager_wins.index, top_10_manager_wins.values, color='green')\n",
    "plt.xlabel('Numero di vittorie')\n",
    "plt.ylabel('Nome dell\\'allenatore')\n",
    "plt.title('Top 10 Allenatori con il maggior numero di vittorie')\n",
    "plt.gca().invert_yaxis()  \n",
    "plt.show()\n"
   ],
   "id": "3be0aeea5e3f3d82",
   "outputs": [
    {
     "data": {
      "text/plain": [
       "<Figure size 1000x500 with 1 Axes>"
      ],
      "image/png": "[encoded data removed]"
     },
     "metadata": {},
     "output_type": "display_data"
    }
   ],
   "execution_count": 10
  }
 ],
 "metadata": {
  "kernelspec": {
   "display_name": "Python 3",
   "language": "python",
   "name": "python3"
  },
  "language_info": {
   "codemirror_mode": {
    "name": "ipython",
    "version": 2
   },
   "file_extension": ".py",
   "mimetype": "text/x-python",
   "name": "python",
   "nbconvert_exporter": "python",
   "pygments_lexer": "ipython2",
   "version": "2.7.6"
  }
 },
 "nbformat": 4,
 "nbformat_minor": 5
}
